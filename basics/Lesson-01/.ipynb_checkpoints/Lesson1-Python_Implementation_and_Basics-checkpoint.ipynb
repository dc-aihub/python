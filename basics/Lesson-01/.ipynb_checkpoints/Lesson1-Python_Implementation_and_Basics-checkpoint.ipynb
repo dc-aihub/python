{
 "cells": [
  {
   "cell_type": "markdown",
   "metadata": {},
   "source": [
    "<img src=\"https://upload.wikimedia.org/wikipedia/commons/thumb/3/3d/Durham_College_logo.svg/1200px-Durham_College_logo.svg.png\" \n",
    "alt=\"DC Logo\" style=\"width:450px;float:left;\"/>"
   ]
  },
  {
   "cell_type": "markdown",
   "metadata": {},
   "source": [
    "# LESSON 1 - Python Implementation & Basics\n",
    "\n",
    "## OVERVIEW\n",
    "\n",
    "**Background:** For this lesson, we will be using the Anaconda - Python distribution to gain an understanding of the basic principles and functions that the Python coding language provides.\n"
   ]
  },
  {
   "cell_type": "markdown",
   "metadata": {},
   "source": [
    "## SECTION 1 - Install Anaconda\n",
    "*Complete in the PDF*"
   ]
  },
  {
   "cell_type": "markdown",
   "metadata": {},
   "source": [
    "## SECTION 2 -  Using IPython Notebooks (Jupyter)\n",
    "\n",
    "### Seeing as you are reading this, you have successfully launched Jupyter and opened your first prepared notebook!\n",
    "#### Let's start by demonstrating some of the benefits of using Jupyter to test your Python code. \n",
    "- At the same time, we will review the basic principles of Python.\n",
    "\n",
    "#### Keep in mind that you are required to copy your working Python scripts into a Python file for submission.\n",
    "- *This can be done by simply creating a text file, pasting your completed code into it, and then changing the file extension to '.py'*\n",
    "- *This will allow you to run your Python scripts through the console as opposed to just printing outputs or return values like in Jupyter.*\n",
    "\n",
    "#### Jupyter stores your code in a different file type (.ipynb), which does not compile or execute in the same way a Python file (.py) would."
   ]
  },
  {
   "cell_type": "markdown",
   "metadata": {},
   "source": [
    "## SECTION 3 - Numbers & Lists\n",
    "\n",
    "https://www.programiz.com/python-programming/numbers\n",
    "\n",
    "https://www.programiz.com/python-programming/list\n",
    "\n",
    "### Numbers\n",
    "\n",
    "**Python supports integers, floating point numbers and complex numbers. They are defined as int, float and the complex class in Python.**\n",
    "\n",
    "Integers and floating points are separated by the presence or absence of a decimal point. 5 is integer whereas 5.0 is a floating point number.\n",
    "\n",
    "Complex numbers are written in the form, x + yj, where x is the real part and y is the imaginary part.\n",
    "\n",
    "**We can use the type() function to know which class a variable or a value belongs to and isinstance() function to check if it belongs to a particular class.**"
   ]
  },
  {
   "cell_type": "code",
   "execution_count": 2,
   "metadata": {},
   "outputs": [
    {
     "name": "stdout",
     "output_type": "stream",
     "text": [
      "<class 'int'>\n",
      "<class 'float'>\n",
      "(8+3j)\n",
      "True\n"
     ]
    }
   ],
   "source": [
    "a = 5\n",
    "\n",
    "# Output: <class 'int'>\n",
    "print(type(a))\n",
    "\n",
    "# Output: <class 'float'>\n",
    "print(type(5.0))\n",
    "\n",
    "# Output: (8+3j)\n",
    "c = 5 + 3j\n",
    "print(c + 3)\n",
    "\n",
    "# Output: True\n",
    "print(isinstance(c, complex))"
   ]
  },
  {
   "cell_type": "markdown",
   "metadata": {},
   "source": [
    "While integers can be of any length, a floating point number is accurate only up to 15 decimal places (the 16th place is inaccurate).\n",
    "\n",
    "In Python, we can represent these numbers by appropriately placing a prefix before that number. Following table lists these prefix.\n",
    "\n",
    "**Number System & Prefix for Python numbers**\n",
    "\n",
    "    Binary\t     '0b' or '0B'\n",
    "    Octal\t      '0o' or '0O'\n",
    "    Hexadecimal\t'0x' or '0X'\n",
    "    \n",
    "**Here are some examples you can experiment with:**"
   ]
  },
  {
   "cell_type": "code",
   "execution_count": 4,
   "metadata": {},
   "outputs": [
    {
     "name": "stdout",
     "output_type": "stream",
     "text": [
      "107\n",
      "253\n",
      "13\n"
     ]
    }
   ],
   "source": [
    "# Output: 107\n",
    "print(0b1101011)\n",
    "\n",
    "# Output: 253 (251 + 2)\n",
    "print(0xFB + 0b10)\n",
    "\n",
    "# Output: 13\n",
    "print(0o15)"
   ]
  },
  {
   "cell_type": "markdown",
   "metadata": {},
   "source": [
    "**Python has built in type conversion. We can convert one type of number into another. This is also known as coercion.**\n",
    "\n",
    "Operations like addition, subtraction coerce integer to float implicitly (automatically), if one of the operand is float.\n",
    "\n",
    ">Therefore: 1 + 2.0\n",
    "---> Becomes:   3.0\n",
    "    \n",
    "We can also use built-in functions like **int()**, **float()** and **complex()** to convert between types explicitly. These function can even convert from strings."
   ]
  },
  {
   "cell_type": "code",
   "execution_count": 17,
   "metadata": {},
   "outputs": [
    {
     "name": "stdout",
     "output_type": "stream",
     "text": [
      "3.0\n",
      "3\n",
      "-2\n",
      "5.0\n",
      "(3+5j)\n"
     ]
    }
   ],
   "source": [
    "print(1 + 2.0)\n",
    "\n",
    "print(int(1 + 2.0))\n",
    "\n",
    "print(int(-2.8))\n",
    "\n",
    "print(float(5))\n",
    "\n",
    "print(complex('3+5j'))"
   ]
  },
  {
   "cell_type": "markdown",
   "metadata": {},
   "source": [
    "**Python's float class performs some calculations that might amaze us... We all know that the sum of 1.1 and 2.2 is 3.3, *but Python seems to disagree.***"
   ]
  },
  {
   "cell_type": "code",
   "execution_count": 29,
   "metadata": {},
   "outputs": [
    {
     "data": {
      "text/plain": [
       "False"
      ]
     },
     "execution_count": 29,
     "metadata": {},
     "output_type": "execute_result"
    }
   ],
   "source": [
    "(1.1 + 2.2) == 3.3\n",
    "\n",
    "# Notice the output below is 'False'; What is going on?"
   ]
  },
  {
   "cell_type": "markdown",
   "metadata": {},
   "source": [
    "**It turns out that floating-point numbers are implemented in computer hardware as binary fractions, as computers only understand binary (0 and 1).**\n",
    "\n",
    "**Due to this reason, most of the decimal fractions we know, cannot be accurately stored in our computer.**\n",
    "\n",
    "- Let's take an example. We cannot represent the fraction 1/3 as a decimal number. This will give 0.33333333... which is infinitely long, and we can only approximate it.\n",
    "\n",
    "- Turns out decimal fraction 0.1 will result into an infinitely long binary fraction of 0.000110011001100110011... and our computer only stores a finite number of it.\n",
    "\n",
    "- This will only approximate 0.1 but never be equal. Hence, it is the limitation of our computer hardware and not an error in Python.\n",
    "\n",
    "> 1.1 + 2.2 = 3.3000000000000003\n",
    "\n",
    "To overcome this issue, we can use decimal module that comes with Python. While floating point numbers have precision up to 15 decimal places, the decimal module has user settable precision.\n",
    "\n",
    "***For more information on Decimals in Python visit this Reference:***\n",
    "    https://www.programiz.com/python-programming/numbers (**Ctrl + F:** decimals)"
   ]
  },
  {
   "cell_type": "code",
   "execution_count": 24,
   "metadata": {},
   "outputs": [
    {
     "name": "stdout",
     "output_type": "stream",
     "text": [
      "0.1\n",
      "0.1000000000000000055511151231257827021181583404541015625\n"
     ]
    }
   ],
   "source": [
    "import decimal\n",
    "\n",
    "# Output: 0.1\n",
    "print(0.1)\n",
    "\n",
    "# Output: Decimal('0.1000000000000000055511151231257827021181583404541015625')\n",
    "print(decimal.Decimal(0.1))"
   ]
  },
  {
   "cell_type": "markdown",
   "metadata": {},
   "source": [
    "**Python provides operations involving fractional numbers through its fractions module.**\n",
    "\n",
    "A fraction has a numerator and a denominator, both of which are integers. This module has support for rational number arithmetic.\n",
    "\n",
    "**We can create Fraction objects in various ways as demonstrated below:**"
   ]
  },
  {
   "cell_type": "code",
   "execution_count": 23,
   "metadata": {},
   "outputs": [
    {
     "name": "stdout",
     "output_type": "stream",
     "text": [
      "3/2\n",
      "5\n",
      "1/3\n"
     ]
    }
   ],
   "source": [
    "import fractions\n",
    "\n",
    "# Output: 3/2\n",
    "print(fractions.Fraction(1.5))\n",
    "\n",
    "# Output: 5\n",
    "print(fractions.Fraction(5))\n",
    "\n",
    "# Output: 1/3\n",
    "print(fractions.Fraction(1,3))"
   ]
  },
  {
   "cell_type": "markdown",
   "metadata": {},
   "source": [
    "While creating Fraction from float, we might get some unusual results. \n",
    "- This is due to the imperfect binary floating point number representation as discussed in the previous section.\n",
    "\n",
    "Fortunately, Fraction allows us to instantiate with a string as well.\n",
    "\n",
    "**This is the preferred option when using decimal numbers.**\n",
    "- *As the code below demonstrates, it is more reliable when dealing with floats.*"
   ]
  },
  {
   "cell_type": "code",
   "execution_count": 26,
   "metadata": {},
   "outputs": [
    {
     "name": "stdout",
     "output_type": "stream",
     "text": [
      "2476979795053773/2251799813685248\n",
      "11/10\n"
     ]
    }
   ],
   "source": [
    "import fractions\n",
    "\n",
    "# As float\n",
    "# Output: 2476979795053773/2251799813685248\n",
    "print(fractions.Fraction(1.1))\n",
    "\n",
    "# As string\n",
    "# Output: 11/10\n",
    "print(fractions.Fraction('1.1'))"
   ]
  },
  {
   "cell_type": "markdown",
   "metadata": {},
   "source": [
    "**For more information on Fractions in Python visit this Reference:**\n",
    "https://www.programiz.com/python-programming/numbers (**Ctrl + F:** fractions)"
   ]
  },
  {
   "cell_type": "markdown",
   "metadata": {},
   "source": [
    "### Math\n",
    "**Python offers modules like math and random to carry out different mathematics like trigonometry, logarithms, probability and statistics, etc.**\n",
    "\n",
    "*The example below demonstrates a few of the functions and attributes available in the Python Math module.*"
   ]
  },
  {
   "cell_type": "code",
   "execution_count": 28,
   "metadata": {},
   "outputs": [
    {
     "name": "stdout",
     "output_type": "stream",
     "text": [
      "18\n",
      "e\n",
      "['b', 'a', 'e', 'c', 'd']\n",
      "0.11805536381400106\n",
      "3.141592653589793\n",
      "-1.0\n",
      "22026.465794806718\n",
      "3.0\n",
      "1.1752011936438014\n",
      "720\n"
     ]
    }
   ],
   "source": [
    "import math\n",
    "\n",
    "import random\n",
    "\n",
    "# Output: 16\n",
    "print(random.randrange(10,20))\n",
    "\n",
    "x = ['a', 'b', 'c', 'd', 'e']\n",
    "\n",
    "# Get random choice\n",
    "print(random.choice(x))\n",
    "\n",
    "# Shuffle x\n",
    "random.shuffle(x)\n",
    "\n",
    "# Print the shuffled x\n",
    "print(x)\n",
    "\n",
    "# Print random element\n",
    "print(random.random())\n",
    "\n",
    "# Output: 3.141592653589793\n",
    "print(math.pi)\n",
    "\n",
    "# Output: -1.0\n",
    "print(math.cos(math.pi))\n",
    "\n",
    "# Output: 22026.465794806718\n",
    "print(math.exp(10))\n",
    "\n",
    "# Output: 3.0\n",
    "print(math.log10(1000))\n",
    "\n",
    "# Output: 1.1752011936438014\n",
    "print(math.sinh(1))\n",
    "\n",
    "# Output: 720\n",
    "print(math.factorial(6))"
   ]
  },
  {
   "cell_type": "markdown",
   "metadata": {},
   "source": [
    "**For more information on Math in Python visit this Reference:**\n",
    "https://www.programiz.com/python-programming/modules/math"
   ]
  },
  {
   "cell_type": "markdown",
   "metadata": {},
   "source": [
    "### Lists\n",
    "*Python offers a range of compound datatypes often referred to as sequences. List is one of the most frequently used and very versatile datatype used in Python.*\n",
    "\n",
    "**In Python programming, a list is created by placing all the items (elements) inside a square bracket [ ], separated by commas.**\n",
    "- It can have any number of items and they may be of different data types (integer, float, string etc.)"
   ]
  },
  {
   "cell_type": "code",
   "execution_count": 35,
   "metadata": {},
   "outputs": [
    {
     "name": "stdout",
     "output_type": "stream",
     "text": [
      "[]\n",
      "[1, 2, 3]\n",
      "[1, 'Hello', 3.4]\n"
     ]
    }
   ],
   "source": [
    "# empty list\n",
    "my_list = []\n",
    "print(my_list)\n",
    "\n",
    "# list of integers\n",
    "my_list = [1, 2, 3]\n",
    "print(my_list)\n",
    "\n",
    "# list with mixed datatypes\n",
    "my_list = [1, \"Hello\", 3.4]\n",
    "print(my_list)"
   ]
  },
  {
   "cell_type": "markdown",
   "metadata": {},
   "source": [
    "**A list can even have another list as an item. This is called a nested list.**"
   ]
  },
  {
   "cell_type": "code",
   "execution_count": 49,
   "metadata": {},
   "outputs": [
    {
     "name": "stdout",
     "output_type": "stream",
     "text": [
      "['mouse', [8, 4, 6], ['a']]\n",
      "[8, 4, 6]\n"
     ]
    }
   ],
   "source": [
    "# Nested List\n",
    "my_list = [\"mouse\", [8, 4, 6], ['a']]\n",
    "\n",
    "print(my_list)\n",
    "\n",
    "# You can access elements of the list using the Index number, which starts at 0.\n",
    "# A 5 item list would start at 0 and go to 4. (i.e. 0, 1, 2, 3, 4)\n",
    "print(my_list[1])"
   ]
  },
  {
   "cell_type": "markdown",
   "metadata": {},
   "source": [
    "**Trying to access an element other than this will raise an IndexError.**\n",
    "- The index must be an integer. \n",
    "- We can't use float or other types, this will result in a TypeError.\n",
    "\n",
    "***Nested lists are accessed using nested indexing.***"
   ]
  },
  {
   "cell_type": "code",
   "execution_count": 51,
   "metadata": {},
   "outputs": [
    {
     "name": "stdout",
     "output_type": "stream",
     "text": [
      "p\n",
      "o\n",
      "e\n",
      "a\n",
      "5\n"
     ]
    }
   ],
   "source": [
    "my_list = ['p','r','o','b','e']\n",
    "# Output: p\n",
    "print(my_list[0])\n",
    "\n",
    "# Output: o\n",
    "print(my_list[2])\n",
    "\n",
    "# Output: e\n",
    "print(my_list[4])\n",
    "\n",
    "# Error! Only integer can be used for indexing\n",
    "# my_list[4.0]\n",
    "\n",
    "# Nested List\n",
    "n_list = [\"Happy\", [2,0,1,5]]\n",
    "\n",
    "# Nested indexing\n",
    "\n",
    "# Output: a\n",
    "print(n_list[0][1])    \n",
    "\n",
    "# Output: 5\n",
    "print(n_list[1][3])"
   ]
  },
  {
   "cell_type": "markdown",
   "metadata": {},
   "source": [
    "**We can access a range of items in a list by using the slicing operator (colon).**\n",
    "\n",
    "*Slicing can be best visualized by considering the index to be between the elements as shown below. So if we want to access a range, we need two index that will slice that portion from the list.*\n",
    "\n",
    "<img src=\"https://cdn.programiz.com/sites/tutorial2program/files/element-slicling.jpg\" \n",
    "alt=\"Slicing Indexes\" style=\"float:left;\"/>\n"
   ]
  },
  {
   "cell_type": "code",
   "execution_count": 53,
   "metadata": {},
   "outputs": [
    {
     "name": "stdout",
     "output_type": "stream",
     "text": [
      "['o', 'g', 'r']\n",
      "['p', 'r', 'o', 'g']\n",
      "['a', 'm', 'i', 'z']\n",
      "['p', 'r', 'o', 'g', 'r', 'a', 'm', 'i', 'z']\n"
     ]
    }
   ],
   "source": [
    "my_list = ['p','r','o','g','r','a','m','i','z']\n",
    "# elements 3rd to 5th\n",
    "print(my_list[2:5])\n",
    "\n",
    "# elements beginning to 4th\n",
    "print(my_list[:-5])\n",
    "\n",
    "# elements 6th to end\n",
    "print(my_list[5:])\n",
    "\n",
    "# elements beginning to end\n",
    "print(my_list[:])"
   ]
  },
  {
   "cell_type": "markdown",
   "metadata": {},
   "source": [
    "**List are mutable, meaning, their elements can be changed unlike string or tuple.**\n",
    "\n",
    "We can use assignment operator (=) to change an item or a range of items."
   ]
  },
  {
   "cell_type": "code",
   "execution_count": 55,
   "metadata": {},
   "outputs": [
    {
     "name": "stdout",
     "output_type": "stream",
     "text": [
      "[1, 4, 6, 8]\n",
      "[1, 3, 5, 7]\n"
     ]
    }
   ],
   "source": [
    "# mistake values\n",
    "odd = [2, 4, 6, 8]\n",
    "\n",
    "# change the 1st item\n",
    "odd[0] = 1            \n",
    "\n",
    "# Output: [1, 4, 6, 8]\n",
    "print(odd)\n",
    "\n",
    "# change 2nd to 4th items\n",
    "odd[1:4] = [3, 5, 7]  \n",
    "\n",
    "# Output: [1, 3, 5, 7]\n",
    "print(odd)                   "
   ]
  },
  {
   "cell_type": "markdown",
   "metadata": {},
   "source": [
    "*We can add one item to a list using **append()** method or add several items using **extend()** method.*"
   ]
  },
  {
   "cell_type": "code",
   "execution_count": 57,
   "metadata": {},
   "outputs": [
    {
     "name": "stdout",
     "output_type": "stream",
     "text": [
      "[1, 3, 5, 7]\n",
      "[1, 3, 5, 7, 9, 11, 13]\n"
     ]
    }
   ],
   "source": [
    "odd = [1, 3, 5]\n",
    "\n",
    "odd.append(7)\n",
    "\n",
    "# Output: [1, 3, 5, 7]\n",
    "print(odd)\n",
    "\n",
    "odd.extend([9, 11, 13])\n",
    "\n",
    "# Output: [1, 3, 5, 7, 9, 11, 13]\n",
    "print(odd)"
   ]
  },
  {
   "cell_type": "markdown",
   "metadata": {},
   "source": [
    "We can also use **+** operator to combine two lists. This is also called **concatenation**.\n",
    "- The * operator repeats a list for the given number of times."
   ]
  },
  {
   "cell_type": "code",
   "execution_count": 59,
   "metadata": {},
   "outputs": [
    {
     "name": "stdout",
     "output_type": "stream",
     "text": [
      "[1, 3, 5, 9, 7, 5]\n",
      "['re', 're', 're']\n"
     ]
    }
   ],
   "source": [
    "odd = [1, 3, 5]\n",
    "\n",
    "# Output: [1, 3, 5, 9, 7, 5]\n",
    "print(odd + [9, 7, 5])\n",
    "\n",
    "#Output: [\"re\", \"re\", \"re\"]\n",
    "print([\"re\"] * 3)"
   ]
  },
  {
   "cell_type": "markdown",
   "metadata": {},
   "source": [
    "Furthermore, we can insert one item at a desired location by using the method **insert()** or insert multiple items by squeezing it into an empty slice of a list."
   ]
  },
  {
   "cell_type": "code",
   "execution_count": 60,
   "metadata": {},
   "outputs": [
    {
     "name": "stdout",
     "output_type": "stream",
     "text": [
      "[1, 3, 9]\n",
      "[1, 3, 5, 7, 9]\n"
     ]
    }
   ],
   "source": [
    "odd = [1, 9]\n",
    "odd.insert(1,3)\n",
    "\n",
    "# Output: [1, 3, 9] \n",
    "print(odd)\n",
    "\n",
    "odd[2:2] = [5, 7]\n",
    "\n",
    "# Output: [1, 3, 5, 7, 9]\n",
    "print(odd)"
   ]
  },
  {
   "cell_type": "markdown",
   "metadata": {},
   "source": [
    "We can delete one or more items from a list using the keyword **del**. It can even delete the list entirely."
   ]
  },
  {
   "cell_type": "code",
   "execution_count": 63,
   "metadata": {},
   "outputs": [
    {
     "name": "stdout",
     "output_type": "stream",
     "text": [
      "['p', 'r', 'b', 'l', 'e', 'm']\n",
      "['p', 'm']\n"
     ]
    }
   ],
   "source": [
    "my_list = ['p','r','o','b','l','e','m']\n",
    "\n",
    "# delete one item\n",
    "del my_list[2]\n",
    "\n",
    "# Output: ['p', 'r', 'b', 'l', 'e', 'm']     \n",
    "print(my_list)\n",
    "\n",
    "# delete multiple items\n",
    "del my_list[1:5]  \n",
    "\n",
    "# Output: ['p', 'm']\n",
    "print(my_list)\n",
    "\n",
    "# delete entire list\n",
    "del my_list       \n",
    "\n",
    "# Causes Intentional Error: List is no longer defined\n",
    "#print(my_list)"
   ]
  },
  {
   "cell_type": "markdown",
   "metadata": {},
   "source": [
    "We can use the **remove()** method to remove the given item or **pop()** method to remove an item at the given index.\n",
    "\n",
    "*The **pop()** method removes and returns the last item if index is not provided. This helps us implement lists as stacks (first in, last out data structure).*\n",
    "\n",
    "We can also use the **clear()** method to empty a list.\n",
    "\n",
    "*Finally, we can also delete items in a list by assigning an empty list to a slice of elements.*"
   ]
  },
  {
   "cell_type": "code",
   "execution_count": 67,
   "metadata": {},
   "outputs": [
    {
     "name": "stdout",
     "output_type": "stream",
     "text": [
      "['r', 'o', 'b', 'l', 'e', 'm']\n",
      "o\n",
      "['r', 'b', 'l', 'e', 'm']\n",
      "m\n",
      "['r', 'b', 'l', 'e']\n",
      "[]\n",
      "['p', 'r', 'b', 'l', 'e', 'm']\n",
      "['p', 'r', 'm']\n"
     ]
    }
   ],
   "source": [
    "my_list = ['p','r','o','b','l','e','m']\n",
    "my_list.remove('p')\n",
    "\n",
    "# Output: ['r', 'o', 'b', 'l', 'e', 'm']\n",
    "print(my_list)\n",
    "\n",
    "# Output: 'o'\n",
    "print(my_list.pop(1))\n",
    "\n",
    "# Output: ['r', 'b', 'l', 'e', 'm']\n",
    "print(my_list)\n",
    "\n",
    "# Output: 'm'\n",
    "print(my_list.pop())\n",
    "\n",
    "# Output: ['r', 'b', 'l', 'e']\n",
    "print(my_list)\n",
    "\n",
    "my_list.clear()\n",
    "\n",
    "# Output: []\n",
    "print(my_list)\n",
    "\n",
    "\n",
    "# Replace index locations with a blank value\n",
    "my_list = ['p','r','o','b','l','e','m']\n",
    "my_list[2:3] = []\n",
    "print(my_list)\n",
    "\n",
    "my_list[2:5] = []\n",
    "print(my_list)"
   ]
  },
  {
   "cell_type": "markdown",
   "metadata": {},
   "source": [
    "**For more information on Lists in Python visit this Reference:**\n",
    "https://www.programiz.com/python-programming/list"
   ]
  },
  {
   "cell_type": "markdown",
   "metadata": {},
   "source": [
    "## SECTION 4 - Tuples & Strings\n",
    "\n",
    "https://www.programiz.com/python-programming/tuple\n",
    "\n",
    "https://www.programiz.com/python-programming/string\n",
    "\n",
    "### Tuples\n",
    "**In Python programming, a tuple is similar to a list. The difference between the two is that we cannot change the elements of a tuple once it is assigned whereas in a list, elements can be changed.**\n",
    "\n",
    "Since, tuples are quite similiar to lists, both of them are used in similar situations as well.\n",
    "\n",
    "However, there are certain advantages of implementing a tuple over a list. Below listed are some of the main advantages:\n",
    "\n",
    "- We generally use **tuples for heterogeneous** (different) datatypes and **lists for homogeneous** (similar) datatypes.\n",
    "- Since tuples are immutable, iterating through a tuple is faster than with list.\n",
    "    - *So there is a slight performance boost.*\n",
    "- Tuples that contain immutable elements can be used as key for a dictionary.\n",
    "    - *With a list, this is not possible.*\n",
    "- If you have data that doesn't change, implementing it as tuple will **guarantee that it remains write-protected.**\n",
    "\n",
    "#### Creating a Tuple\n",
    "A tuple is created by placing all the items (elements) inside a parentheses (), separated by comma. The parentheses are optional but is a good practice to write it.\n",
    "\n",
    "*A tuple can have any number of items and they may be of different types (integer, float, list, string etc.)*"
   ]
  },
  {
   "cell_type": "code",
   "execution_count": 69,
   "metadata": {},
   "outputs": [
    {
     "name": "stdout",
     "output_type": "stream",
     "text": [
      "()\n",
      "(1, 2, 3)\n",
      "(1, 'Hello', 3.4)\n",
      "('mouse', [8, 4, 6], (1, 2, 3))\n",
      "(3, 4.6, 'dog')\n",
      "3\n",
      "4.6\n",
      "dog\n"
     ]
    }
   ],
   "source": [
    "# empty tuple\n",
    "# Output: ()\n",
    "my_tuple = ()\n",
    "print(my_tuple)\n",
    "\n",
    "# tuple having integers\n",
    "# Output: (1, 2, 3)\n",
    "my_tuple = (1, 2, 3)\n",
    "print(my_tuple)\n",
    "\n",
    "# tuple with mixed datatypes\n",
    "# Output: (1, \"Hello\", 3.4)\n",
    "my_tuple = (1, \"Hello\", 3.4)\n",
    "print(my_tuple)\n",
    "\n",
    "# nested tuple\n",
    "# Output: (\"mouse\", [8, 4, 6], (1, 2, 3))\n",
    "my_tuple = (\"mouse\", [8, 4, 6], (1, 2, 3))\n",
    "print(my_tuple)\n",
    "\n",
    "# tuple can be created without parentheses\n",
    "# also called tuple packing\n",
    "# Output: 3, 4.6, \"dog\"\n",
    "\n",
    "my_tuple = 3, 4.6, \"dog\"\n",
    "print(my_tuple)\n",
    "\n",
    "# tuple unpacking is also possible\n",
    "# Output:\n",
    "# 3\n",
    "# 4.6\n",
    "# dog\n",
    "a, b, c = my_tuple\n",
    "print(a)\n",
    "print(b)\n",
    "print(c)"
   ]
  },
  {
   "cell_type": "markdown",
   "metadata": {},
   "source": [
    "**Creating a tuple with ONE element is a bit tricky.**\n",
    "\n",
    "- Having one element within parentheses is not enough.\n",
    "- ***We will need a trailing comma to indicate that it is in fact a tuple.***"
   ]
  },
  {
   "cell_type": "code",
   "execution_count": 71,
   "metadata": {},
   "outputs": [
    {
     "name": "stdout",
     "output_type": "stream",
     "text": [
      "<class 'str'>\n",
      "<class 'tuple'>\n",
      "<class 'tuple'>\n"
     ]
    }
   ],
   "source": [
    "# only parentheses is not enough\n",
    "# Output: <class 'str'>\n",
    "my_tuple = (\"hello\")\n",
    "print(type(my_tuple))\n",
    "\n",
    "# need a comma at the end\n",
    "# Output: <class 'tuple'>\n",
    "my_tuple = (\"hello\",)  \n",
    "print(type(my_tuple))\n",
    "\n",
    "# parentheses is optional\n",
    "# Output: <class 'tuple'>\n",
    "my_tuple = \"hello\",\n",
    "print(type(my_tuple))"
   ]
  },
  {
   "cell_type": "markdown",
   "metadata": {},
   "source": [
    "**There are various ways in which we can access the elements of a tuple, both of which were described in detail during the Lists section.**\n",
    "- Indexing & Negative Indexing\n",
    "- Slicing\n",
    "\n",
    "**However, because Tuples are immutable by default, the data inside is write-protected unless declared otherwise:**\n",
    "- *For example, **tuple(1, 2, 3, [4, 5]** is **immutable** outside of the square brackets, but the numbers 4 and 5 are considered **mutable** because they are wrapped inside the square brackets.*\n",
    "\n",
    "\n",
    "- **Immutable** *means the data can only be accessed and read for processing purposes.*\n",
    "    - *It cannot be changed unless a programmer opens the actual code and changes the values declared inside the tuple manually.*\n",
    "    \n",
    "    \n",
    "- **Mutable** *means the data can be manipulated and changed at any time, as well as read and used for processing.*\n",
    "\n",
    "**There are numerous built-in functions which work with Tuples**\n",
    "- They can be found at the Reference link below.\n",
    "\n",
    "- *Due to tuples not adding/removing items; There are only two main methods:*\n",
    "\n",
    "    - **count(x)**\tReturns the number of items that is equal to x\n",
    "    - **index(x)**    Returns the index of the first item that is equal to x\n",
    "\n",
    "\n",
    "**For more information on Tuples in Python visit this Reference:**\n",
    "https://www.programiz.com/python-programming/tuple\n",
    "\n",
    "### Strings\n",
    "\n",
    "Strings can be created by enclosing characters inside a single quote or double quotes. Even triple quotes can be used in Python but generally used to represent multiline strings and docstrings.\n",
    "\n",
    "\n",
    "\n",
    "\n"
   ]
  },
  {
   "cell_type": "code",
   "execution_count": 2,
   "metadata": {},
   "outputs": [
    {
     "name": "stdout",
     "output_type": "stream",
     "text": [
      "Hello\n",
      "Hello\n",
      "Hello\n",
      "Hello, welcome to\n",
      "           the world of Python\n"
     ]
    }
   ],
   "source": [
    "# all of the following are equivalent\n",
    "my_string = 'Hello'\n",
    "print(my_string)\n",
    "\n",
    "my_string = \"Hello\"\n",
    "print(my_string)\n",
    "\n",
    "my_string = '''Hello'''\n",
    "print(my_string)\n",
    "\n",
    "# triple quotes string can extend multiple lines\n",
    "my_string = \"\"\"Hello, welcome to\n",
    "           the world of Python\"\"\"\n",
    "print(my_string)"
   ]
  },
  {
   "cell_type": "markdown",
   "metadata": {},
   "source": [
    "**Strings can be manipulated using Python Math similar to lists and tuples.**\n",
    "\n",
    "**Using for loop we can iterate through a string. Here is an example to count the number of 'l' in a string.**\n",
    "\n"
   ]
  },
  {
   "cell_type": "code",
   "execution_count": 4,
   "metadata": {},
   "outputs": [
    {
     "name": "stdout",
     "output_type": "stream",
     "text": [
      "3 letters found\n"
     ]
    }
   ],
   "source": [
    "count = 0\n",
    "for letter in 'Hello World':\n",
    "    if(letter == 'l'):\n",
    "        count += 1\n",
    "print(count,'letters found')"
   ]
  },
  {
   "cell_type": "markdown",
   "metadata": {},
   "source": [
    "**We can test if a sub string exists within a string or not, using the keyword in.**"
   ]
  },
  {
   "cell_type": "code",
   "execution_count": 9,
   "metadata": {},
   "outputs": [
    {
     "data": {
      "text/plain": [
       "True"
      ]
     },
     "execution_count": 9,
     "metadata": {},
     "output_type": "execute_result"
    }
   ],
   "source": [
    "# Comment the opposite snippet out in order to see each output individually.\n",
    "\n",
    "'a' in 'program'\n",
    "#'at' not in 'battle'"
   ]
  },
  {
   "cell_type": "markdown",
   "metadata": {},
   "source": [
    "**Various built-in functions that work with sequence, works with string as well.**\n",
    "\n",
    "Some of the commonly used ones are **enumerate()** and **len()**.\n",
    "\n",
    "\n",
    "- The **enumerate()** function returns an enumerate object. \n",
    "    - It contains the index and value of all the items in the string as pairs.\n",
    "    - This can be useful for iteration.\n",
    "\n",
    "\n",
    "- The **len()** function returns the length (number of characters) of the string."
   ]
  },
  {
   "cell_type": "markdown",
   "metadata": {},
   "source": [
    "## SECTION 5 - Sets & Booleans\n",
    "\n",
    "https://www.programiz.com/python-programming/set\n",
    "\n",
    "http://www.pythonforbeginners.com/basics/boolean"
   ]
  },
  {
   "cell_type": "markdown",
   "metadata": {},
   "source": [
    "## SECTION 6 - Dictionary & Print Formatting\n",
    "\n",
    "https://www.programiz.com/python-programming/dictionary\n",
    "\n"
   ]
  },
  {
   "cell_type": "markdown",
   "metadata": {
    "collapsed": true
   },
   "source": [
    "## SECTION 7 - File Operations\n",
    "\n",
    "https://www.programiz.com/python-programming/file-operation"
   ]
  },
  {
   "cell_type": "code",
   "execution_count": null,
   "metadata": {
    "collapsed": true
   },
   "outputs": [],
   "source": []
  }
 ],
 "metadata": {
  "kernelspec": {
   "display_name": "Python 3",
   "language": "python",
   "name": "python3"
  },
  "language_info": {
   "codemirror_mode": {
    "name": "ipython",
    "version": 3
   },
   "file_extension": ".py",
   "mimetype": "text/x-python",
   "name": "python",
   "nbconvert_exporter": "python",
   "pygments_lexer": "ipython3",
   "version": "3.6.1"
  }
 },
 "nbformat": 4,
 "nbformat_minor": 2
}
